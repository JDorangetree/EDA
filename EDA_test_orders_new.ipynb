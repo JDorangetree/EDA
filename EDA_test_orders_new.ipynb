{
 "cells": [
  {
   "cell_type": "code",
   "execution_count": 1,
   "id": "bda2afef-02c9-4cac-8ea0-d77ecbbb8364",
   "metadata": {},
   "outputs": [],
   "source": [
    "import pandas as pd\n",
    "import numpy as np"
   ]
  },
  {
   "cell_type": "code",
   "execution_count": 2,
   "id": "22fe415c-759b-434f-b4d8-3a66ce9ba60e",
   "metadata": {
    "tags": []
   },
   "outputs": [
    {
     "name": "stdout",
     "output_type": "stream",
     "text": [
      "Se tenía un total de 10 registros duplicados\n"
     ]
    }
   ],
   "source": [
    "df = pd.read_csv('test_orders_new.csv', sep=',')\n",
    "duplicados = df.shape\n",
    "df = df.drop_duplicates(keep=\"first\")\n",
    "sin_duplicados = df.shape\n",
    "df['seller_id'] = df['seller_id'].fillna(0.0)\n",
    "print(f'Se tenía un total de {duplicados[0] - sin_duplicados[0]} registros duplicados')\n"
   ]
  },
  {
   "cell_type": "code",
   "execution_count": 3,
   "id": "25c51740-f743-4d99-b4f4-68586393f38a",
   "metadata": {},
   "outputs": [],
   "source": [
    "def create_date(row):\n",
    "    date = row['order_created_at']\n",
    "    if isinstance(date, str):\n",
    "        date = row['order_created_at']\n",
    "        date = date.replace(\"Z\", \"\")\n",
    "        date = date.replace(\"T\", \" \")\n",
    "        return(date)\n",
    "    else:\n",
    "        return('NULL')\n",
    "def payment_date(row):\n",
    "    date = row['payment_date']\n",
    "    if isinstance(date, str):\n",
    "        date = row['payment_date']\n",
    "        date = date.replace(\"Z\", \"\")\n",
    "        date = date.replace(\"T\", \" \")\n",
    "        #date_split = date.split('T', 1)\n",
    "        return(date)\n",
    "    else:\n",
    "        return('NULL')\n",
    "\n",
    "def seller_id(row):\n",
    "    seller_id = row['seller_id']\n",
    "    seller_id = int(seller_id)\n",
    "    return(seller_id)\n",
    "    \n",
    "df['order_created_at'] = df.apply(create_date, axis=1)\n",
    "df['payment_date'] = df.apply(payment_date, axis=1)\n",
    "df['seller_id'] = df.apply(seller_id, axis=1)"
   ]
  },
  {
   "cell_type": "code",
   "execution_count": null,
   "id": "277f430f-dcf9-46d3-b88a-3ccfd001f545",
   "metadata": {},
   "outputs": [],
   "source": [
    "df.to_csv('EDA_test_orders_new.csv', index=False, sep=',')"
   ]
  },
  {
   "cell_type": "code",
   "execution_count": null,
   "id": "3b6012ac-b54f-4664-96e6-bb593477da30",
   "metadata": {},
   "outputs": [],
   "source": [
    "print(df.info())"
   ]
  }
 ],
 "metadata": {
  "kernelspec": {
   "display_name": "Python 3 (ipykernel)",
   "language": "python",
   "name": "python3"
  },
  "language_info": {
   "codemirror_mode": {
    "name": "ipython",
    "version": 3
   },
   "file_extension": ".py",
   "mimetype": "text/x-python",
   "name": "python",
   "nbconvert_exporter": "python",
   "pygments_lexer": "ipython3",
   "version": "3.8.8"
  }
 },
 "nbformat": 4,
 "nbformat_minor": 5
}
