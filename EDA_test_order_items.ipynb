{
 "cells": [
  {
   "cell_type": "code",
   "execution_count": null,
   "id": "3919e8f7-ec40-4460-8c43-af98d98fd3c8",
   "metadata": {},
   "outputs": [],
   "source": [
    "import pandas as pd"
   ]
  },
  {
   "cell_type": "code",
   "execution_count": null,
   "id": "b08b89a5-5ceb-4eb1-bf82-2341f1309ac9",
   "metadata": {},
   "outputs": [],
   "source": [
    "df = pd.read_csv('test_order_items.csv', sep=',')\n",
    "duplicados = df.shape\n",
    "df = df.drop_duplicates(keep=\"first\")\n",
    "sin_duplicados = df.shape\n",
    "print(f'Se tenía un total de {duplicados[0] - sin_duplicados[0]} registros duplicados')\n",
    "df['seller_id'] = df['seller_id'].fillna(0.0)"
   ]
  },
  {
   "cell_type": "code",
   "execution_count": null,
   "id": "15a24fc9-d3d8-483b-948f-9f49c1311cfc",
   "metadata": {},
   "outputs": [],
   "source": [
    "def seller_id(row):\n",
    "    seller_id = row['seller_id']\n",
    "    seller_id = int(seller_id)\n",
    "    return(seller_id)\n",
    "df['seller_id'] = df.apply(seller_id, axis=1)"
   ]
  },
  {
   "cell_type": "code",
   "execution_count": null,
   "id": "1f85b309-59d5-4bd8-91ea-f35f5d35d59b",
   "metadata": {},
   "outputs": [],
   "source": [
    "df.to_csv('EDA_test_order_items.csv', index=False, sep=',')"
   ]
  },
  {
   "cell_type": "code",
   "execution_count": null,
   "id": "07246f89-74f9-4fdf-afc5-be5c09819168",
   "metadata": {},
   "outputs": [],
   "source": [
    "print(df.info())\n",
    "print(df.head())"
   ]
  }
 ],
 "metadata": {
  "kernelspec": {
   "display_name": "Python 3 (ipykernel)",
   "language": "python",
   "name": "python3"
  },
  "language_info": {
   "codemirror_mode": {
    "name": "ipython",
    "version": 3
   },
   "file_extension": ".py",
   "mimetype": "text/x-python",
   "name": "python",
   "nbconvert_exporter": "python",
   "pygments_lexer": "ipython3",
   "version": "3.8.8"
  }
 },
 "nbformat": 4,
 "nbformat_minor": 5
}
