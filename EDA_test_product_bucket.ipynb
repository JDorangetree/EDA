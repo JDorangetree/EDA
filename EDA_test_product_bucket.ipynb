{
 "cells": [
  {
   "cell_type": "code",
   "execution_count": null,
   "id": "7b9e56f1-fafb-4c91-9119-18c25ba8e0df",
   "metadata": {},
   "outputs": [],
   "source": [
    "import pandas as pd\n",
    "import numpy as np"
   ]
  },
  {
   "cell_type": "code",
   "execution_count": null,
   "id": "21ecec50-86c3-4178-b372-9e0802ff2f52",
   "metadata": {},
   "outputs": [],
   "source": [
    "df = pd.read_csv('test_product_buckets.csv', sep=',')\n",
    "duplicados = df.shape\n",
    "df = df.drop_duplicates(keep=\"first\")\n",
    "sin_duplicados = df.shape\n",
    "print(f'Se tenía un total de {duplicados[0] - sin_duplicados[0]} registros duplicados')\n",
    "df['bucket'] = df['bucket'].astype(str)"
   ]
  },
  {
   "cell_type": "code",
   "execution_count": null,
   "id": "cb03fd56-4d99-4c16-a616-d3c63dfb16f4",
   "metadata": {},
   "outputs": [],
   "source": [
    "def bucket(row):\n",
    "    cod = row['bucket']\n",
    "    if cod == '0':\n",
    "        return('NULL')\n",
    "    else:\n",
    "        return(cod)\n",
    "df['bucket'] = df.apply(bucket, axis=1)"
   ]
  },
  {
   "cell_type": "code",
   "execution_count": null,
   "id": "d73174b4-cefb-4580-ad4f-f3b099fd2380",
   "metadata": {},
   "outputs": [],
   "source": [
    "df.to_csv('EDA_test_product_buckets.csv', index=False, sep=',')"
   ]
  },
  {
   "cell_type": "code",
   "execution_count": null,
   "id": "97f009c2-4f24-4223-ae98-21677bb8b9a1",
   "metadata": {},
   "outputs": [],
   "source": [
    "print(df.head())"
   ]
  }
 ],
 "metadata": {
  "kernelspec": {
   "display_name": "Python 3 (ipykernel)",
   "language": "python",
   "name": "python3"
  },
  "language_info": {
   "codemirror_mode": {
    "name": "ipython",
    "version": 3
   },
   "file_extension": ".py",
   "mimetype": "text/x-python",
   "name": "python",
   "nbconvert_exporter": "python",
   "pygments_lexer": "ipython3",
   "version": "3.8.8"
  }
 },
 "nbformat": 4,
 "nbformat_minor": 5
}
