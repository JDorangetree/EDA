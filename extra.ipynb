{
 "cells": [
  {
   "cell_type": "code",
   "execution_count": 1,
   "id": "61846e4d-defe-445c-a31f-504e48082c32",
   "metadata": {},
   "outputs": [],
   "source": [
    "import pandas as pd\n",
    "import matplotlib as plt"
   ]
  },
  {
   "cell_type": "code",
   "execution_count": 2,
   "id": "b5d0d851-dcfe-4186-8d12-722fbc761f66",
   "metadata": {},
   "outputs": [
    {
     "data": {
      "text/html": [
       "<div>\n",
       "<style scoped>\n",
       "    .dataframe tbody tr th:only-of-type {\n",
       "        vertical-align: middle;\n",
       "    }\n",
       "\n",
       "    .dataframe tbody tr th {\n",
       "        vertical-align: top;\n",
       "    }\n",
       "\n",
       "    .dataframe thead th {\n",
       "        text-align: right;\n",
       "    }\n",
       "</style>\n",
       "<table border=\"1\" class=\"dataframe\">\n",
       "  <thead>\n",
       "    <tr style=\"text-align: right;\">\n",
       "      <th></th>\n",
       "      <th>order_seller_id</th>\n",
       "      <th>order_id</th>\n",
       "      <th>order_created_at</th>\n",
       "      <th>payment_date</th>\n",
       "      <th>order_status</th>\n",
       "      <th>seller_id</th>\n",
       "      <th>total_item_quantity</th>\n",
       "    </tr>\n",
       "  </thead>\n",
       "  <tbody>\n",
       "    <tr>\n",
       "      <th>0</th>\n",
       "      <td>86329-1425</td>\n",
       "      <td>86329</td>\n",
       "      <td>2022-01-01 09:50:43</td>\n",
       "      <td>2022-01-01 09:50:43</td>\n",
       "      <td>completed</td>\n",
       "      <td>1425</td>\n",
       "      <td>2.0</td>\n",
       "    </tr>\n",
       "    <tr>\n",
       "      <th>1</th>\n",
       "      <td>86331-2537</td>\n",
       "      <td>86331</td>\n",
       "      <td>2022-01-01 15:40:13</td>\n",
       "      <td>2022-01-01 15:40:13</td>\n",
       "      <td>completed</td>\n",
       "      <td>2537</td>\n",
       "      <td>1.0</td>\n",
       "    </tr>\n",
       "    <tr>\n",
       "      <th>2</th>\n",
       "      <td>86332-75</td>\n",
       "      <td>86332</td>\n",
       "      <td>2022-01-02 08:45:17</td>\n",
       "      <td>2022-01-02 08:45:17</td>\n",
       "      <td>completed</td>\n",
       "      <td>75</td>\n",
       "      <td>1.0</td>\n",
       "    </tr>\n",
       "    <tr>\n",
       "      <th>3</th>\n",
       "      <td>86341-1724</td>\n",
       "      <td>86341</td>\n",
       "      <td>2022-01-02 22:56:28</td>\n",
       "      <td>2022-01-02 22:56:28</td>\n",
       "      <td>completed</td>\n",
       "      <td>1724</td>\n",
       "      <td>1.0</td>\n",
       "    </tr>\n",
       "    <tr>\n",
       "      <th>4</th>\n",
       "      <td>86527-1955</td>\n",
       "      <td>86527</td>\n",
       "      <td>2022-01-04 03:42:43</td>\n",
       "      <td>NaN</td>\n",
       "      <td>pending</td>\n",
       "      <td>1955</td>\n",
       "      <td>1.0</td>\n",
       "    </tr>\n",
       "  </tbody>\n",
       "</table>\n",
       "</div>"
      ],
      "text/plain": [
       "  order_seller_id  order_id     order_created_at         payment_date  \\\n",
       "0      86329-1425     86329  2022-01-01 09:50:43  2022-01-01 09:50:43   \n",
       "1      86331-2537     86331  2022-01-01 15:40:13  2022-01-01 15:40:13   \n",
       "2        86332-75     86332  2022-01-02 08:45:17  2022-01-02 08:45:17   \n",
       "3      86341-1724     86341  2022-01-02 22:56:28  2022-01-02 22:56:28   \n",
       "4      86527-1955     86527  2022-01-04 03:42:43                  NaN   \n",
       "\n",
       "  order_status  seller_id  total_item_quantity  \n",
       "0    completed       1425                  2.0  \n",
       "1    completed       2537                  1.0  \n",
       "2    completed         75                  1.0  \n",
       "3    completed       1724                  1.0  \n",
       "4      pending       1955                  1.0  "
      ]
     },
     "execution_count": 2,
     "metadata": {},
     "output_type": "execute_result"
    }
   ],
   "source": [
    "df_orders = pd.read_csv('EDA_test_orders_new.csv', sep=',')\n",
    "df_orders.head()\n"
   ]
  },
  {
   "cell_type": "code",
   "execution_count": 3,
   "id": "dc23682d-8a6a-47b5-9212-719b6232450b",
   "metadata": {},
   "outputs": [],
   "source": [
    "#Condiciones de ordenes satisfactorias\n",
    "\n",
    "df_orders = df_orders[df_orders['payment_date'].notna()]\n",
    "df_orders = df_orders[df_orders['order_status'] != 'cancelled']\n",
    "df_orders = df_orders[df_orders['order_status'] != 'trash']\n",
    "df_orders = df_orders[df_orders['seller_id'] != 2119]\n",
    "def create_date(row):\n",
    "    date = row['order_created_at']\n",
    "    if isinstance(date, str):\n",
    "        date = row['order_created_at']\n",
    "        date = date.replace(\"Z\", \"\")\n",
    "        date = date.replace(\"T\", \" \")\n",
    "        return(date)\n",
    "    else:\n",
    "        return('NULL')\n",
    "def payment_date(row):\n",
    "    date = row['payment_date']\n",
    "    if isinstance(date, str):\n",
    "        date = row['payment_date']\n",
    "        date = date.replace(\"Z\", \"\")\n",
    "        date = date.replace(\"T\", \" \")\n",
    "        #date_split = date.split('T', 1)\n",
    "        return(date)\n",
    "    else:\n",
    "        return('NULL')\n",
    "def seller_id(row):\n",
    "    seller_id = row['seller_id']\n",
    "    seller_id = int(seller_id)\n",
    "    return(seller_id)\n",
    "df_orders['order_created_at'] = df_orders.apply(create_date, axis=1)\n",
    "df_orders['payment_date'] = df_orders.apply(payment_date, axis=1)\n",
    "df_orders['seller_id'] = df_orders.apply(seller_id, axis=1)\n",
    "df_orders['order_created_at']= pd.to_datetime(df_orders['order_created_at'])\n",
    "df_orders['payment_date']= pd.to_datetime(df_orders['payment_date'])\n",
    "df_orders.shape\n",
    "mask = (df_orders['payment_date'] >= '2022-01-01 00:00:01') & (df_orders['payment_date'] <= '2022-01-15 23:59:59')\n",
    "df_orders=df_orders.loc[mask]"
   ]
  },
  {
   "cell_type": "code",
   "execution_count": 4,
   "id": "db3227c9-f29a-4a78-8473-2347fdd17371",
   "metadata": {},
   "outputs": [
    {
     "name": "stdout",
     "output_type": "stream",
     "text": [
      "hay un total de 52 ordenes satisfactorias\n"
     ]
    },
    {
     "data": {
      "image/png": "[encoded data removed]",
      "text/plain": [
       "<Figure size 432x288 with 1 Axes>"
      ]
     },
     "metadata": {
      "needs_background": "light"
     },
     "output_type": "display_data"
    }
   ],
   "source": [
    "#grafica para ordenes satisfactorias por día\n",
    "df_orders['date_only'] = df_orders['payment_date'].dt.date\n",
    "plot_succesful_orders = df_orders.groupby('date_only').count()['order_seller_id'].to_frame().reset_index()\n",
    "plot_succesful_orders['day'] = pd.DatetimeIndex(plot_succesful_orders['date_only']).day\n",
    "plot_succesful_orders\n",
    "plot_succesful_orders.plot.bar(x='day', y='order_seller_id', rot=45);\n",
    "plot_succesful_orders.head()\n",
    "total = plot_succesful_orders['order_seller_id'].sum()\n",
    "print(f'hay un total de {total} ordenes satisfactorias')\n"
   ]
  },
  {
   "cell_type": "code",
   "execution_count": null,
   "id": "6ceebdee-61e9-4f65-b45d-a04ea8303e18",
   "metadata": {},
   "outputs": [],
   "source": [
    "\n"
   ]
  },
  {
   "cell_type": "code",
   "execution_count": null,
   "id": "8499ce33-b755-43b5-8e3d-d8577ffa9edc",
   "metadata": {},
   "outputs": [],
   "source": []
  },
  {
   "cell_type": "code",
   "execution_count": null,
   "id": "2539b4e7-6c8f-4695-94fa-4df7917866df",
   "metadata": {},
   "outputs": [],
   "source": []
  },
  {
   "cell_type": "code",
   "execution_count": null,
   "id": "cd461137-e258-4c4f-80e3-599fde36fa34",
   "metadata": {},
   "outputs": [],
   "source": []
  },
  {
   "cell_type": "code",
   "execution_count": null,
   "id": "7a9bc649-f5dd-4cce-8331-751a5983ab4a",
   "metadata": {},
   "outputs": [],
   "source": []
  }
 ],
 "metadata": {
  "kernelspec": {
   "display_name": "Python 3 (ipykernel)",
   "language": "python",
   "name": "python3"
  },
  "language_info": {
   "codemirror_mode": {
    "name": "ipython",
    "version": 3
   },
   "file_extension": ".py",
   "mimetype": "text/x-python",
   "name": "python",
   "nbconvert_exporter": "python",
   "pygments_lexer": "ipython3",
   "version": "3.8.8"
  }
 },
 "nbformat": 4,
 "nbformat_minor": 5
}
